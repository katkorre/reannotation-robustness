{
  "nbformat": 4,
  "nbformat_minor": 0,
  "metadata": {
    "colab": {
      "provenance": [],
      "toc_visible": true,
      "gpuType": "T4",
      "authorship_tag": "ABX9TyMz8L0M2ImXaKbAiiIZtaJ0",
      "include_colab_link": true
    },
    "kernelspec": {
      "name": "python3",
      "display_name": "Python 3"
    },
    "language_info": {
      "name": "python"
    },
    "accelerator": "GPU"
  },
  "cells": [
    {
      "cell_type": "markdown",
      "metadata": {
        "id": "view-in-github",
        "colab_type": "text"
      },
      "source": [
        "<a href=\"https://colab.research.google.com/github/katkorre/reannotation-robustness/blob/main/robustness_training.ipynb\" target=\"_parent\"><img src=\"https://colab.research.google.com/assets/colab-badge.svg\" alt=\"Open In Colab\"/></a>"
      ]
    },
    {
      "cell_type": "code",
      "source": [
        "!git clone https://github.com/katkorre/reannotation-robustness.git"
      ],
      "metadata": {
        "colab": {
          "base_uri": "https://localhost:8080/"
        },
        "id": "b9cYvMKNpZCj",
        "outputId": "31c08c85-e90d-4b64-eb8c-9684ca815c13"
      },
      "execution_count": null,
      "outputs": [
        {
          "output_type": "stream",
          "name": "stdout",
          "text": [
            "fatal: destination path 'reannotation-robustness' already exists and is not an empty directory.\n"
          ]
        }
      ]
    },
    {
      "cell_type": "code",
      "execution_count": null,
      "metadata": {
        "id": "wG-X1T0rO06h"
      },
      "outputs": [],
      "source": [
        "# install ktrain classifier\n",
        "%%capture\n",
        "! pip install ktrain\n",
        "%reload_ext autoreload\n",
        "%autoreload 2\n",
        "%matplotlib inline"
      ]
    },
    {
      "cell_type": "code",
      "execution_count": null,
      "metadata": {
        "id": "RuKlgiLDOjq-",
        "colab": {
          "base_uri": "https://localhost:8080/"
        },
        "outputId": "42eddbf6-3c93-4bc2-c791-45a85f0717d0"
      },
      "outputs": [
        {
          "output_type": "stream",
          "name": "stderr",
          "text": [
            "[nltk_data] Downloading package punkt to /root/nltk_data...\n",
            "[nltk_data]   Unzipping tokenizers/punkt.zip.\n"
          ]
        }
      ],
      "source": [
        "import os\n",
        "os.environ[\"CUDA_DEVICE_ORDER\"]=\"PCI_BUS_ID\";\n",
        "os.environ[\"CUDA_VISIBLE_DEVICES\"]=\"0\";\n",
        "import ktrain\n",
        "from ktrain import text\n",
        "import pandas as pd\n",
        "import numpy as np\n",
        "from sklearn.model_selection import train_test_split\n",
        "from sklearn.metrics import classification_report\n",
        "import nltk\n",
        "nltk.download('punkt')\n",
        "from nltk.tokenize import word_tokenize"
      ]
    },
    {
      "cell_type": "markdown",
      "source": [
        "# Example train"
      ],
      "metadata": {
        "id": "iw03n2Hkpygn"
      }
    },
    {
      "cell_type": "code",
      "source": [
        "davidsonhs = pd.read_csv(\"/content/reannotation-robustness/train/davidson_hs_train.csv\")"
      ],
      "metadata": {
        "id": "NeYVjQpOpyB6"
      },
      "execution_count": null,
      "outputs": []
    },
    {
      "cell_type": "markdown",
      "source": [
        "### Calculate max length (mean+std)"
      ],
      "metadata": {
        "id": "fqdrzo7XIDCe"
      }
    },
    {
      "cell_type": "code",
      "source": [
        "# Tokenize sentences and calculate sentence length\n",
        "davidsonhs['tokens'] = davidsonhs['text'].apply(word_tokenize)\n",
        "davidsonhs['sentence_length'] = davidsonhs['tokens'].apply(len)\n",
        "\n",
        "# Calculate mean and standard deviation of sentence length\n",
        "mean_sentence_length = davidsonhs['sentence_length'].mean()\n",
        "std_sentence_length = davidsonhs['sentence_length'].std()\n",
        "\n",
        "print('Max length is', mean_sentence_length + std_sentence_length)"
      ],
      "metadata": {
        "colab": {
          "base_uri": "https://localhost:8080/"
        },
        "id": "PAfRn5gBI3d-",
        "outputId": "7281ff9d-3638-41b9-bc7e-6a3bdeb77b13"
      },
      "execution_count": null,
      "outputs": [
        {
          "output_type": "stream",
          "name": "stdout",
          "text": [
            "Max length is 29.35009262148089\n"
          ]
        }
      ]
    },
    {
      "cell_type": "code",
      "execution_count": null,
      "metadata": {
        "colab": {
          "base_uri": "https://localhost:8080/",
          "height": 655
        },
        "outputId": "c6d91dff-3d76-4741-916a-2ef4b82c7923",
        "id": "Pkt0-nS7u3jE"
      },
      "outputs": [
        {
          "output_type": "stream",
          "name": "stdout",
          "text": [
            "['not_toxic', 'toxic']\n",
            "      not_toxic  toxic\n",
            "1691        0.0    1.0\n",
            "1663        0.0    1.0\n",
            "2303        0.0    1.0\n",
            "504         1.0    0.0\n",
            "2121        0.0    1.0\n",
            "['not_toxic', 'toxic']\n",
            "      not_toxic  toxic\n",
            "393         1.0    0.0\n",
            "212         1.0    0.0\n",
            "1281        1.0    0.0\n",
            "1046        1.0    0.0\n",
            "1982        0.0    1.0\n",
            "downloading pretrained BERT model (uncased_L-12_H-768_A-12.zip)...\n",
            "[██████████████████████████████████████████████████]\n",
            "extracting pretrained BERT model...\n",
            "done.\n",
            "\n",
            "cleanup downloaded zip...\n",
            "done.\n",
            "\n",
            "preprocessing train...\n",
            "language: en\n"
          ]
        },
        {
          "output_type": "display_data",
          "data": {
            "text/plain": [
              "<IPython.core.display.HTML object>"
            ],
            "text/html": [
              "\n",
              "<style>\n",
              "    /* Turns off some styling */\n",
              "    progress {\n",
              "        /* gets rid of default border in Firefox and Opera. */\n",
              "        border: none;\n",
              "        /* Needs to be in here for Safari polyfill so background images work as expected. */\n",
              "        background-size: auto;\n",
              "    }\n",
              "    progress:not([value]), progress:not([value])::-webkit-progress-bar {\n",
              "        background: repeating-linear-gradient(45deg, #7e7e7e, #7e7e7e 10px, #5c5c5c 10px, #5c5c5c 20px);\n",
              "    }\n",
              "    .progress-bar-interrupted, .progress-bar-interrupted::-webkit-progress-bar {\n",
              "        background: #F44336;\n",
              "    }\n",
              "</style>\n"
            ]
          },
          "metadata": {}
        },
        {
          "output_type": "display_data",
          "data": {
            "text/plain": [
              "<IPython.core.display.HTML object>"
            ],
            "text/html": [
              "done."
            ]
          },
          "metadata": {}
        },
        {
          "output_type": "stream",
          "name": "stdout",
          "text": [
            "Is Multi-Label? False\n",
            "preprocessing test...\n",
            "language: en\n"
          ]
        },
        {
          "output_type": "display_data",
          "data": {
            "text/plain": [
              "<IPython.core.display.HTML object>"
            ],
            "text/html": [
              "\n",
              "<style>\n",
              "    /* Turns off some styling */\n",
              "    progress {\n",
              "        /* gets rid of default border in Firefox and Opera. */\n",
              "        border: none;\n",
              "        /* Needs to be in here for Safari polyfill so background images work as expected. */\n",
              "        background-size: auto;\n",
              "    }\n",
              "    progress:not([value]), progress:not([value])::-webkit-progress-bar {\n",
              "        background: repeating-linear-gradient(45deg, #7e7e7e, #7e7e7e 10px, #5c5c5c 10px, #5c5c5c 20px);\n",
              "    }\n",
              "    .progress-bar-interrupted, .progress-bar-interrupted::-webkit-progress-bar {\n",
              "        background: #F44336;\n",
              "    }\n",
              "</style>\n"
            ]
          },
          "metadata": {}
        },
        {
          "output_type": "display_data",
          "data": {
            "text/plain": [
              "<IPython.core.display.HTML object>"
            ],
            "text/html": [
              "done."
            ]
          },
          "metadata": {}
        },
        {
          "output_type": "stream",
          "name": "stdout",
          "text": [
            "Is Multi-Label? False\n",
            "maxlen is 30\n"
          ]
        },
        {
          "output_type": "stream",
          "name": "stderr",
          "text": [
            "/usr/local/lib/python3.10/dist-packages/keras/initializers/initializers.py:120: UserWarning: The initializer GlorotNormal is unseeded and being called multiple times, which will return identical values each time (even if the initializer is unseeded). Please update your code to provide a seed to the initializer, or avoid using the same initalizer instance more than once.\n",
            "  warnings.warn(\n"
          ]
        },
        {
          "output_type": "stream",
          "name": "stdout",
          "text": [
            "done.\n"
          ]
        }
      ],
      "source": [
        "model_name = \"bert\"\n",
        "train, test = train_test_split(davidsonhs, test_size=0.1)\n",
        "train, val = train_test_split(train, test_size=test.shape[0])\n",
        "train_, val_, preproc = ktrain.text.texts_from_df(train, \"text\", \"toxic\", val, maxlen=30, preprocess_mode=model_name)\n",
        "model = text.text_classifier(model_name, train_, preproc=preproc)\n",
        "learner = ktrain.get_learner(model, train_data=train_, val_data=val_) # 32 batch_size"
      ]
    },
    {
      "cell_type": "code",
      "execution_count": null,
      "metadata": {
        "colab": {
          "base_uri": "https://localhost:8080/"
        },
        "outputId": "d1c7652b-68da-4371-91f7-b80ea04dfb78",
        "id": "NZGEpvyCu3jE"
      },
      "outputs": [
        {
          "output_type": "stream",
          "name": "stdout",
          "text": [
            "simulating training for different learning rates... this may take a few moments...\n",
            "Epoch 1/1024\n",
            "67/67 [==============================] - 41s 207ms/step - loss: 1.0286 - accuracy: 0.4920\n",
            "Epoch 2/1024\n",
            "67/67 [==============================] - 14s 210ms/step - loss: 0.9262 - accuracy: 0.4910\n",
            "Epoch 3/1024\n",
            "67/67 [==============================] - 14s 213ms/step - loss: 0.7581 - accuracy: 0.5160\n",
            "Epoch 4/1024\n",
            "67/67 [==============================] - 14s 216ms/step - loss: 0.6440 - accuracy: 0.6340\n",
            "Epoch 5/1024\n",
            "67/67 [==============================] - 15s 220ms/step - loss: 0.5687 - accuracy: 0.7264\n",
            "Epoch 6/1024\n",
            "67/67 [==============================] - 15s 223ms/step - loss: 0.4497 - accuracy: 0.8024\n",
            "Epoch 7/1024\n",
            "67/67 [==============================] - 15s 227ms/step - loss: 0.3076 - accuracy: 0.8840\n",
            "Epoch 8/1024\n",
            "67/67 [==============================] - 15s 225ms/step - loss: 0.1994 - accuracy: 0.9278\n",
            "Epoch 9/1024\n",
            "67/67 [==============================] - 15s 222ms/step - loss: 0.1783 - accuracy: 0.9377\n",
            "Epoch 10/1024\n",
            "67/67 [==============================] - 15s 221ms/step - loss: 0.1697 - accuracy: 0.9467\n",
            "Epoch 11/1024\n",
            "67/67 [==============================] - 15s 222ms/step - loss: 0.1024 - accuracy: 0.9594\n",
            "Epoch 12/1024\n",
            "67/67 [==============================] - 15s 227ms/step - loss: 0.1501 - accuracy: 0.9429\n",
            "Epoch 13/1024\n",
            "67/67 [==============================] - 15s 223ms/step - loss: 0.2809 - accuracy: 0.8986\n",
            "Epoch 14/1024\n",
            "67/67 [==============================] - 4s 61ms/step - loss: 0.8397 - accuracy: 0.5345\n",
            "\n",
            "\n",
            "done.\n",
            "Please invoke the Learner.lr_plot() method to visually inspect the loss plot to help identify the maximal learning rate associated with falling loss.\n"
          ]
        }
      ],
      "source": [
        "learner.lr_find()"
      ]
    },
    {
      "cell_type": "code",
      "execution_count": null,
      "metadata": {
        "id": "5AdHXK12u3jF",
        "colab": {
          "base_uri": "https://localhost:8080/",
          "height": 454
        },
        "outputId": "6be0942b-eabe-479c-fd45-045a02c8f30f"
      },
      "outputs": [
        {
          "output_type": "display_data",
          "data": {
            "text/plain": [
              "<Figure size 640x480 with 1 Axes>"
            ],
            "image/png": "[encoded data removed]"
          },
          "metadata": {}
        }
      ],
      "source": [
        "learner.lr_plot()"
      ]
    },
    {
      "cell_type": "code",
      "execution_count": null,
      "metadata": {
        "id": "CXuYiJp-u3jF",
        "colab": {
          "base_uri": "https://localhost:8080/"
        },
        "outputId": "f99be422-3f90-4723-9901-bdc2d96e9b1d"
      },
      "outputs": [
        {
          "output_type": "stream",
          "name": "stdout",
          "text": [
            "early_stopping automatically enabled at patience=5\n",
            "reduce_on_plateau automatically enabled at patience=2\n",
            "\n",
            "\n",
            "begin training using triangular learning rate policy with max lr of 0.0001...\n",
            "Epoch 1/1024\n",
            "67/67 [==============================] - 45s 333ms/step - loss: 0.4985 - accuracy: 0.7509 - val_loss: 0.2595 - val_accuracy: 0.9019\n",
            "Epoch 2/1024\n",
            "67/67 [==============================] - 16s 236ms/step - loss: 0.2321 - accuracy: 0.9071 - val_loss: 0.3200 - val_accuracy: 0.8755\n",
            "Epoch 3/1024\n",
            "67/67 [==============================] - 16s 244ms/step - loss: 0.1147 - accuracy: 0.9608 - val_loss: 0.1347 - val_accuracy: 0.9321\n",
            "Epoch 4/1024\n",
            "67/67 [==============================] - 16s 233ms/step - loss: 0.0633 - accuracy: 0.9816 - val_loss: 0.1557 - val_accuracy: 0.9396\n",
            "Epoch 5/1024\n",
            "67/67 [==============================] - ETA: 0s - loss: 0.0268 - accuracy: 0.9906\n",
            "Epoch 00005: Reducing Max LR on Plateau: new max lr will be 5e-05 (if not early_stopping).\n",
            "67/67 [==============================] - 16s 232ms/step - loss: 0.0268 - accuracy: 0.9906 - val_loss: 0.1890 - val_accuracy: 0.9396\n",
            "Epoch 6/1024\n",
            "67/67 [==============================] - 15s 231ms/step - loss: 0.0136 - accuracy: 0.9962 - val_loss: 0.2687 - val_accuracy: 0.9358\n",
            "Epoch 7/1024\n",
            "67/67 [==============================] - ETA: 0s - loss: 0.0032 - accuracy: 0.9995\n",
            "Epoch 00007: Reducing Max LR on Plateau: new max lr will be 2.5e-05 (if not early_stopping).\n",
            "67/67 [==============================] - 16s 234ms/step - loss: 0.0032 - accuracy: 0.9995 - val_loss: 0.2601 - val_accuracy: 0.9396\n",
            "Epoch 8/1024\n",
            "67/67 [==============================] - ETA: 0s - loss: 0.0024 - accuracy: 0.9995Restoring model weights from the end of the best epoch: 3.\n",
            "67/67 [==============================] - 16s 240ms/step - loss: 0.0024 - accuracy: 0.9995 - val_loss: 0.2604 - val_accuracy: 0.9358\n",
            "Epoch 8: early stopping\n",
            "Weights from best epoch have been loaded into model.\n"
          ]
        },
        {
          "output_type": "execute_result",
          "data": {
            "text/plain": [
              "<keras.callbacks.History at 0x7f0390769f30>"
            ]
          },
          "metadata": {},
          "execution_count": 14
        }
      ],
      "source": [
        "learner.autofit(1e-4)"
      ]
    },
    {
      "cell_type": "code",
      "source": [
        "p = ktrain.get_predictor(learner.model, preproc)"
      ],
      "metadata": {
        "id": "CfjcNNI5wxLE"
      },
      "execution_count": null,
      "outputs": []
    },
    {
      "cell_type": "markdown",
      "metadata": {
        "id": "lJ6S5Z_0u3jG"
      },
      "source": [
        "## Test on Toxicity"
      ]
    },
    {
      "cell_type": "code",
      "source": [
        "test = pd.read_csv(\"/content/reannotation-robustness/test/test_tox.csv\")"
      ],
      "metadata": {
        "id": "YGcIcuofUd6D"
      },
      "execution_count": null,
      "outputs": []
    },
    {
      "cell_type": "code",
      "execution_count": null,
      "metadata": {
        "id": "rtJXojW6u3jH"
      },
      "outputs": [],
      "source": [
        "test['preds']=test.apply(lambda row: p.predict(row['text']), axis=1)"
      ]
    },
    {
      "cell_type": "code",
      "source": [
        "test"
      ],
      "metadata": {
        "colab": {
          "base_uri": "https://localhost:8080/",
          "height": 423
        },
        "id": "J4A3Ovr25ooa",
        "outputId": "99160eb5-6adf-47fe-bc1f-e209e0a45250"
      },
      "execution_count": null,
      "outputs": [
        {
          "output_type": "execute_result",
          "data": {
            "text/plain": [
              "     Unnamed: 0 gold_toxicity         toxicity source  \\\n",
              "0             0           NaN  [1, 0, 0, 1, 1]      C   \n",
              "1             1           NaN  [1, 0, 1, 1, 1]      B   \n",
              "2             2           NaN  [1, 1, 1, 0, 1]      A   \n",
              "3             3           NaN  [1, 0, 0, 0, 1]      C   \n",
              "4             4           NaN  [0, 0, 0, 1, 1]      A   \n",
              "..          ...           ...              ...    ...   \n",
              "595         595           YES  [1, 1, 1, 1, 1]      B   \n",
              "596         596            NO  [1, 1, 0, 0, 0]      C   \n",
              "597         597           YES  [0, 1, 0, 0, 1]      A   \n",
              "598         598           YES  [0, 0, 0, 0, 0]      C   \n",
              "599         599           YES  [1, 1, 1, 1, 1]      C   \n",
              "\n",
              "                                                  text  max      preds  \n",
              "0    and we shud also destroy taj mahal... qutub mi...    1  not_toxic  \n",
              "1         Project pay is just a soft ass little bitch.    1      toxic  \n",
              "2    @tiffantasticc your dad is genuine happy guy b...    1      toxic  \n",
              "3    Now India will start striking back through Twi...    0      toxic  \n",
              "4         Early bird gets the worm! &#128027;&#128036;    0  not_toxic  \n",
              "..                                                 ...  ...        ...  \n",
              "595  \"@Frosstyy_: @h0rheyd I didn't say anything th...    1      toxic  \n",
              "596  Launch veiled attack? This is what a democrati...    0      toxic  \n",
              "597  &#8220;@MikeyPDaCav5: I love the song \"John Do...    0  not_toxic  \n",
              "598  In tamilnadu 76% reservation is present..whats...    0  not_toxic  \n",
              "599  Absolutely pathetic piece of journalism from I...    1      toxic  \n",
              "\n",
              "[600 rows x 7 columns]"
            ],
            "text/html": [
              "\n",
              "\n",
              "  <div id=\"df-be01327c-dbce-41ae-9519-c7a9886ee42f\">\n",
              "    <div class=\"colab-df-container\">\n",
              "      <div>\n",
              "<style scoped>\n",
              "    .dataframe tbody tr th:only-of-type {\n",
              "        vertical-align: middle;\n",
              "    }\n",
              "\n",
              "    .dataframe tbody tr th {\n",
              "        vertical-align: top;\n",
              "    }\n",
              "\n",
              "    .dataframe thead th {\n",
              "        text-align: right;\n",
              "    }\n",
              "</style>\n",
              "<table border=\"1\" class=\"dataframe\">\n",
              "  <thead>\n",
              "    <tr style=\"text-align: right;\">\n",
              "      <th></th>\n",
              "      <th>Unnamed: 0</th>\n",
              "      <th>gold_toxicity</th>\n",
              "      <th>toxicity</th>\n",
              "      <th>source</th>\n",
              "      <th>text</th>\n",
              "      <th>max</th>\n",
              "      <th>preds</th>\n",
              "    </tr>\n",
              "  </thead>\n",
              "  <tbody>\n",
              "    <tr>\n",
              "      <th>0</th>\n",
              "      <td>0</td>\n",
              "      <td>NaN</td>\n",
              "      <td>[1, 0, 0, 1, 1]</td>\n",
              "      <td>C</td>\n",
              "      <td>and we shud also destroy taj mahal... qutub mi...</td>\n",
              "      <td>1</td>\n",
              "      <td>not_toxic</td>\n",
              "    </tr>\n",
              "    <tr>\n",
              "      <th>1</th>\n",
              "      <td>1</td>\n",
              "      <td>NaN</td>\n",
              "      <td>[1, 0, 1, 1, 1]</td>\n",
              "      <td>B</td>\n",
              "      <td>Project pay is just a soft ass little bitch.</td>\n",
              "      <td>1</td>\n",
              "      <td>toxic</td>\n",
              "    </tr>\n",
              "    <tr>\n",
              "      <th>2</th>\n",
              "      <td>2</td>\n",
              "      <td>NaN</td>\n",
              "      <td>[1, 1, 1, 0, 1]</td>\n",
              "      <td>A</td>\n",
              "      <td>@tiffantasticc your dad is genuine happy guy b...</td>\n",
              "      <td>1</td>\n",
              "      <td>toxic</td>\n",
              "    </tr>\n",
              "    <tr>\n",
              "      <th>3</th>\n",
              "      <td>3</td>\n",
              "      <td>NaN</td>\n",
              "      <td>[1, 0, 0, 0, 1]</td>\n",
              "      <td>C</td>\n",
              "      <td>Now India will start striking back through Twi...</td>\n",
              "      <td>0</td>\n",
              "      <td>toxic</td>\n",
              "    </tr>\n",
              "    <tr>\n",
              "      <th>4</th>\n",
              "      <td>4</td>\n",
              "      <td>NaN</td>\n",
              "      <td>[0, 0, 0, 1, 1]</td>\n",
              "      <td>A</td>\n",
              "      <td>Early bird gets the worm! &amp;#128027;&amp;#128036;</td>\n",
              "      <td>0</td>\n",
              "      <td>not_toxic</td>\n",
              "    </tr>\n",
              "    <tr>\n",
              "      <th>...</th>\n",
              "      <td>...</td>\n",
              "      <td>...</td>\n",
              "      <td>...</td>\n",
              "      <td>...</td>\n",
              "      <td>...</td>\n",
              "      <td>...</td>\n",
              "      <td>...</td>\n",
              "    </tr>\n",
              "    <tr>\n",
              "      <th>595</th>\n",
              "      <td>595</td>\n",
              "      <td>YES</td>\n",
              "      <td>[1, 1, 1, 1, 1]</td>\n",
              "      <td>B</td>\n",
              "      <td>\"@Frosstyy_: @h0rheyd I didn't say anything th...</td>\n",
              "      <td>1</td>\n",
              "      <td>toxic</td>\n",
              "    </tr>\n",
              "    <tr>\n",
              "      <th>596</th>\n",
              "      <td>596</td>\n",
              "      <td>NO</td>\n",
              "      <td>[1, 1, 0, 0, 0]</td>\n",
              "      <td>C</td>\n",
              "      <td>Launch veiled attack? This is what a democrati...</td>\n",
              "      <td>0</td>\n",
              "      <td>toxic</td>\n",
              "    </tr>\n",
              "    <tr>\n",
              "      <th>597</th>\n",
              "      <td>597</td>\n",
              "      <td>YES</td>\n",
              "      <td>[0, 1, 0, 0, 1]</td>\n",
              "      <td>A</td>\n",
              "      <td>&amp;#8220;@MikeyPDaCav5: I love the song \"John Do...</td>\n",
              "      <td>0</td>\n",
              "      <td>not_toxic</td>\n",
              "    </tr>\n",
              "    <tr>\n",
              "      <th>598</th>\n",
              "      <td>598</td>\n",
              "      <td>YES</td>\n",
              "      <td>[0, 0, 0, 0, 0]</td>\n",
              "      <td>C</td>\n",
              "      <td>In tamilnadu 76% reservation is present..whats...</td>\n",
              "      <td>0</td>\n",
              "      <td>not_toxic</td>\n",
              "    </tr>\n",
              "    <tr>\n",
              "      <th>599</th>\n",
              "      <td>599</td>\n",
              "      <td>YES</td>\n",
              "      <td>[1, 1, 1, 1, 1]</td>\n",
              "      <td>C</td>\n",
              "      <td>Absolutely pathetic piece of journalism from I...</td>\n",
              "      <td>1</td>\n",
              "      <td>toxic</td>\n",
              "    </tr>\n",
              "  </tbody>\n",
              "</table>\n",
              "<p>600 rows × 7 columns</p>\n",
              "</div>\n",
              "      <button class=\"colab-df-convert\" onclick=\"convertToInteractive('df-be01327c-dbce-41ae-9519-c7a9886ee42f')\"\n",
              "              title=\"Convert this dataframe to an interactive table.\"\n",
              "              style=\"display:none;\">\n",
              "\n",
              "  <svg xmlns=\"http://www.w3.org/2000/svg\" height=\"24px\"viewBox=\"0 0 24 24\"\n",
              "       width=\"24px\">\n",
              "    <path d=\"M0 0h24v24H0V0z\" fill=\"none\"/>\n",
              "    <path d=\"M18.56 5.44l.94 2.06.94-2.06 2.06-.94-2.06-.94-.94-2.06-.94 2.06-2.06.94zm-11 1L8.5 8.5l.94-2.06 2.06-.94-2.06-.94L8.5 2.5l-.94 2.06-2.06.94zm10 10l.94 2.06.94-2.06 2.06-.94-2.06-.94-.94-2.06-.94 2.06-2.06.94z\"/><path d=\"M17.41 7.96l-1.37-1.37c-.4-.4-.92-.59-1.43-.59-.52 0-1.04.2-1.43.59L10.3 9.45l-7.72 7.72c-.78.78-.78 2.05 0 2.83L4 21.41c.39.39.9.59 1.41.59.51 0 1.02-.2 1.41-.59l7.78-7.78 2.81-2.81c.8-.78.8-2.07 0-2.86zM5.41 20L4 18.59l7.72-7.72 1.47 1.35L5.41 20z\"/>\n",
              "  </svg>\n",
              "      </button>\n",
              "\n",
              "\n",
              "\n",
              "    <div id=\"df-f170b4cc-510f-421a-8437-94aea860e47d\">\n",
              "      <button class=\"colab-df-quickchart\" onclick=\"quickchart('df-f170b4cc-510f-421a-8437-94aea860e47d')\"\n",
              "              title=\"Suggest charts.\"\n",
              "              style=\"display:none;\">\n",
              "\n",
              "<svg xmlns=\"http://www.w3.org/2000/svg\" height=\"24px\"viewBox=\"0 0 24 24\"\n",
              "     width=\"24px\">\n",
              "    <g>\n",
              "        <path d=\"M19 3H5c-1.1 0-2 .9-2 2v14c0 1.1.9 2 2 2h14c1.1 0 2-.9 2-2V5c0-1.1-.9-2-2-2zM9 17H7v-7h2v7zm4 0h-2V7h2v10zm4 0h-2v-4h2v4z\"/>\n",
              "    </g>\n",
              "</svg>\n",
              "      </button>\n",
              "    </div>\n",
              "\n",
              "<style>\n",
              "  .colab-df-quickchart {\n",
              "    background-color: #E8F0FE;\n",
              "    border: none;\n",
              "    border-radius: 50%;\n",
              "    cursor: pointer;\n",
              "    display: none;\n",
              "    fill: #1967D2;\n",
              "    height: 32px;\n",
              "    padding: 0 0 0 0;\n",
              "    width: 32px;\n",
              "  }\n",
              "\n",
              "  .colab-df-quickchart:hover {\n",
              "    background-color: #E2EBFA;\n",
              "    box-shadow: 0px 1px 2px rgba(60, 64, 67, 0.3), 0px 1px 3px 1px rgba(60, 64, 67, 0.15);\n",
              "    fill: #174EA6;\n",
              "  }\n",
              "\n",
              "  [theme=dark] .colab-df-quickchart {\n",
              "    background-color: #3B4455;\n",
              "    fill: #D2E3FC;\n",
              "  }\n",
              "\n",
              "  [theme=dark] .colab-df-quickchart:hover {\n",
              "    background-color: #434B5C;\n",
              "    box-shadow: 0px 1px 3px 1px rgba(0, 0, 0, 0.15);\n",
              "    filter: drop-shadow(0px 1px 2px rgba(0, 0, 0, 0.3));\n",
              "    fill: #FFFFFF;\n",
              "  }\n",
              "</style>\n",
              "\n",
              "    <script>\n",
              "      async function quickchart(key) {\n",
              "        const containerElement = document.querySelector('#' + key);\n",
              "        const charts = await google.colab.kernel.invokeFunction(\n",
              "            'suggestCharts', [key], {});\n",
              "      }\n",
              "    </script>\n",
              "\n",
              "      <script>\n",
              "\n",
              "function displayQuickchartButton(domScope) {\n",
              "  let quickchartButtonEl =\n",
              "    domScope.querySelector('#df-f170b4cc-510f-421a-8437-94aea860e47d button.colab-df-quickchart');\n",
              "  quickchartButtonEl.style.display =\n",
              "    google.colab.kernel.accessAllowed ? 'block' : 'none';\n",
              "}\n",
              "\n",
              "        displayQuickchartButton(document);\n",
              "      </script>\n",
              "      <style>\n",
              "    .colab-df-container {\n",
              "      display:flex;\n",
              "      flex-wrap:wrap;\n",
              "      gap: 12px;\n",
              "    }\n",
              "\n",
              "    .colab-df-convert {\n",
              "      background-color: #E8F0FE;\n",
              "      border: none;\n",
              "      border-radius: 50%;\n",
              "      cursor: pointer;\n",
              "      display: none;\n",
              "      fill: #1967D2;\n",
              "      height: 32px;\n",
              "      padding: 0 0 0 0;\n",
              "      width: 32px;\n",
              "    }\n",
              "\n",
              "    .colab-df-convert:hover {\n",
              "      background-color: #E2EBFA;\n",
              "      box-shadow: 0px 1px 2px rgba(60, 64, 67, 0.3), 0px 1px 3px 1px rgba(60, 64, 67, 0.15);\n",
              "      fill: #174EA6;\n",
              "    }\n",
              "\n",
              "    [theme=dark] .colab-df-convert {\n",
              "      background-color: #3B4455;\n",
              "      fill: #D2E3FC;\n",
              "    }\n",
              "\n",
              "    [theme=dark] .colab-df-convert:hover {\n",
              "      background-color: #434B5C;\n",
              "      box-shadow: 0px 1px 3px 1px rgba(0, 0, 0, 0.15);\n",
              "      filter: drop-shadow(0px 1px 2px rgba(0, 0, 0, 0.3));\n",
              "      fill: #FFFFFF;\n",
              "    }\n",
              "  </style>\n",
              "\n",
              "      <script>\n",
              "        const buttonEl =\n",
              "          document.querySelector('#df-be01327c-dbce-41ae-9519-c7a9886ee42f button.colab-df-convert');\n",
              "        buttonEl.style.display =\n",
              "          google.colab.kernel.accessAllowed ? 'block' : 'none';\n",
              "\n",
              "        async function convertToInteractive(key) {\n",
              "          const element = document.querySelector('#df-be01327c-dbce-41ae-9519-c7a9886ee42f');\n",
              "          const dataTable =\n",
              "            await google.colab.kernel.invokeFunction('convertToInteractive',\n",
              "                                                     [key], {});\n",
              "          if (!dataTable) return;\n",
              "\n",
              "          const docLinkHtml = 'Like what you see? Visit the ' +\n",
              "            '<a target=\"_blank\" href=https://colab.research.google.com/notebooks/data_table.ipynb>data table notebook</a>'\n",
              "            + ' to learn more about interactive tables.';\n",
              "          element.innerHTML = '';\n",
              "          dataTable['output_type'] = 'display_data';\n",
              "          await google.colab.output.renderOutput(dataTable, element);\n",
              "          const docLink = document.createElement('div');\n",
              "          docLink.innerHTML = docLinkHtml;\n",
              "          element.appendChild(docLink);\n",
              "        }\n",
              "      </script>\n",
              "    </div>\n",
              "  </div>\n"
            ]
          },
          "metadata": {},
          "execution_count": 33
        }
      ]
    },
    {
      "cell_type": "code",
      "source": [
        "# map values\n",
        "test['preds'] = test['preds'].map({'toxic': 1, 'not_toxic': 0})"
      ],
      "metadata": {
        "id": "SATX-ERI5abn"
      },
      "execution_count": null,
      "outputs": []
    },
    {
      "cell_type": "code",
      "execution_count": null,
      "metadata": {
        "colab": {
          "base_uri": "https://localhost:8080/"
        },
        "outputId": "1d1553bf-ebbd-4973-847c-e24b2a28e253",
        "id": "iZwPnzoSu3jH"
      },
      "outputs": [
        {
          "output_type": "stream",
          "name": "stdout",
          "text": [
            "              precision    recall  f1-score   support\n",
            "\n",
            "           0       0.86      0.57      0.69       387\n",
            "           1       0.51      0.83      0.63       213\n",
            "\n",
            "    accuracy                           0.66       600\n",
            "   macro avg       0.69      0.70      0.66       600\n",
            "weighted avg       0.74      0.66      0.67       600\n",
            "\n"
          ]
        }
      ],
      "source": [
        "print(classification_report(test['max'], test['preds']))"
      ]
    }
  ]
}